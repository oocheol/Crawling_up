{
 "cells": [
  {
   "cell_type": "code",
   "execution_count": null,
   "metadata": {},
   "outputs": [],
   "source": [
    "from selenium import webdriver\n",
    "from bs4 import BeautifulSoup as bs\n",
    "import time\n",
    "import pandas as pd\n",
    "import requests\n",
    "import urllib.request\n",
    "import os\n",
    "\n",
    "chrome_options = webdriver.ChromeOptions()\n",
    "chrome_options.add_argument('--headless') #내부 창을 띄울 수 없으므로 설정\n",
    "chrome_options.add_argument('--no-sandbox') #sandbox 사용 X\n",
    "chrome_options.add_argument('--disable-dev-shm-usage')\n",
    "\n",
    "chrome_path = 'C:/chromedriver/chromedriver.exe'\n",
    "driver = webdriver.Chrome(chrome_path, chrome_options=chrome_options)"
   ]
  },
  {
   "cell_type": "code",
   "execution_count": null,
   "metadata": {},
   "outputs": [],
   "source": [
    "os.makedirs('Cloudpick_img')\n",
    "\n",
    "for i in range(1,100):  # 페이지 SEQ 시작, 끝 값\n",
    "    for j in range(1,10): # 페이지 안에 추출할 이미지 갯수\n",
    "        try:\n",
    "            # 사이트 주소 -> SEQ 규칙 필요\n",
    "            url = f'https://www.crowdpic.net/view/contest/contest_detail.php?n={i}'\n",
    "\n",
    "            driver.get(url)\n",
    "                        \n",
    "            soup = bs(driver.page_source, 'html.parser')\n",
    "                    \n",
    "            # 해당 페이지에서 이미지 주소로 접근하는 selector (F12에서 Copy Selector하면 됨 !!)\n",
    "            res = soup.select_one(f'#contest-detail-container > div.contest-contents-wrap > div.contest-example-wrap > div.pagination-container > div > div:nth-of-type({j})')\n",
    "                    \n",
    "            img = res.find('img')['src']\n",
    "            \n",
    "            urllib.request.urlretrieve(img, f\"Cloudpick_img/cloudpick_{i}_{j}.jpg\")\n",
    "            \n",
    "        \n",
    "        except:\n",
    "            print(i,j)\n",
    "            pass"
   ]
  }
 ],
 "metadata": {
  "language_info": {
   "name": "python"
  },
  "orig_nbformat": 4
 },
 "nbformat": 4,
 "nbformat_minor": 2
}
